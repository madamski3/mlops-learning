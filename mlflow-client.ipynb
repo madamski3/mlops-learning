{
 "cells": [
  {
   "cell_type": "code",
   "execution_count": 6,
   "id": "ccad528c",
   "metadata": {},
   "outputs": [],
   "source": [
    "from mlflow.client import MlflowClient\n",
    "\n",
    "MLFLOW_TRACKING_URI = 'sqlite:///mlflow.db'\n",
    "client = MlflowClient(tracking_uri = MLFLOW_TRACKING_URI)"
   ]
  },
  {
   "cell_type": "code",
   "execution_count": 9,
   "id": "89d96132",
   "metadata": {},
   "outputs": [
    {
     "name": "stderr",
     "output_type": "stream",
     "text": [
      "2025/07/12 21:11:54 INFO mlflow.store.db.utils: Creating initial MLflow database tables...\n",
      "2025/07/12 21:11:54 INFO mlflow.store.db.utils: Updating database tables\n"
     ]
    },
    {
     "name": "stderr",
     "output_type": "stream",
     "text": [
      "INFO  [alembic.runtime.migration] Context impl SQLiteImpl.\n",
      "INFO  [alembic.runtime.migration] Will assume non-transactional DDL.\n"
     ]
    },
    {
     "data": {
      "text/plain": [
       "<RegisteredModel: aliases={'prod': 2, 'staging': 1}, creation_timestamp=1752371368299, deployment_job_id=None, deployment_job_state=None, description='', last_updated_timestamp=1752371491331, latest_versions=[<ModelVersion: aliases=[], creation_timestamp=1752371491331, current_stage='None', deployment_job_state=None, description='', last_updated_timestamp=1752371491331, metrics=None, model_id=None, name='nyc-taxi-duration', params=None, run_id='', run_link='', source='models:/nyc-taxi-duration/1', status='READY', status_message=None, tags={}, user_id=None, version=2>], name='nyc-taxi-duration', tags={}>"
      ]
     },
     "execution_count": 9,
     "metadata": {},
     "output_type": "execute_result"
    }
   ],
   "source": [
    "client.get_registered_model('nyc-taxi-duration')"
   ]
  },
  {
   "cell_type": "code",
   "execution_count": null,
   "id": "cbfbf190",
   "metadata": {},
   "outputs": [],
   "source": []
  }
 ],
 "metadata": {
  "kernelspec": {
   "display_name": "exp-tracking-env",
   "language": "python",
   "name": "python3"
  },
  "language_info": {
   "codemirror_mode": {
    "name": "ipython",
    "version": 3
   },
   "file_extension": ".py",
   "mimetype": "text/x-python",
   "name": "python",
   "nbconvert_exporter": "python",
   "pygments_lexer": "ipython3",
   "version": "3.9.23"
  }
 },
 "nbformat": 4,
 "nbformat_minor": 5
}
